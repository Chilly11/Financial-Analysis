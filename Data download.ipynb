{
 "cells": [
  {
   "cell_type": "code",
   "execution_count": 1,
   "metadata": {},
   "outputs": [
    {
     "name": "stdout",
     "output_type": "stream",
     "text": [
      "Requirement already satisfied: yfinance in /opt/anaconda3/lib/python3.12/site-packages (0.2.54)\n",
      "Requirement already satisfied: pandas>=1.3.0 in /opt/anaconda3/lib/python3.12/site-packages (from yfinance) (2.2.2)\n",
      "Requirement already satisfied: numpy>=1.16.5 in /opt/anaconda3/lib/python3.12/site-packages (from yfinance) (1.26.4)\n",
      "Requirement already satisfied: requests>=2.31 in /opt/anaconda3/lib/python3.12/site-packages (from yfinance) (2.32.2)\n",
      "Requirement already satisfied: multitasking>=0.0.7 in /opt/anaconda3/lib/python3.12/site-packages (from yfinance) (0.0.11)\n",
      "Requirement already satisfied: platformdirs>=2.0.0 in /opt/anaconda3/lib/python3.12/site-packages (from yfinance) (3.10.0)\n",
      "Requirement already satisfied: pytz>=2022.5 in /opt/anaconda3/lib/python3.12/site-packages (from yfinance) (2024.1)\n",
      "Requirement already satisfied: frozendict>=2.3.4 in /opt/anaconda3/lib/python3.12/site-packages (from yfinance) (2.4.2)\n",
      "Requirement already satisfied: peewee>=3.16.2 in /opt/anaconda3/lib/python3.12/site-packages (from yfinance) (3.17.8)\n",
      "Requirement already satisfied: beautifulsoup4>=4.11.1 in /opt/anaconda3/lib/python3.12/site-packages (from yfinance) (4.12.3)\n",
      "Requirement already satisfied: soupsieve>1.2 in /opt/anaconda3/lib/python3.12/site-packages (from beautifulsoup4>=4.11.1->yfinance) (2.5)\n",
      "Requirement already satisfied: python-dateutil>=2.8.2 in /opt/anaconda3/lib/python3.12/site-packages (from pandas>=1.3.0->yfinance) (2.9.0.post0)\n",
      "Requirement already satisfied: tzdata>=2022.7 in /opt/anaconda3/lib/python3.12/site-packages (from pandas>=1.3.0->yfinance) (2023.3)\n",
      "Requirement already satisfied: charset-normalizer<4,>=2 in /opt/anaconda3/lib/python3.12/site-packages (from requests>=2.31->yfinance) (2.0.4)\n",
      "Requirement already satisfied: idna<4,>=2.5 in /opt/anaconda3/lib/python3.12/site-packages (from requests>=2.31->yfinance) (3.7)\n",
      "Requirement already satisfied: urllib3<3,>=1.21.1 in /opt/anaconda3/lib/python3.12/site-packages (from requests>=2.31->yfinance) (2.2.2)\n",
      "Requirement already satisfied: certifi>=2017.4.17 in /opt/anaconda3/lib/python3.12/site-packages (from requests>=2.31->yfinance) (2024.8.30)\n",
      "Requirement already satisfied: six>=1.5 in /opt/anaconda3/lib/python3.12/site-packages (from python-dateutil>=2.8.2->pandas>=1.3.0->yfinance) (1.16.0)\n",
      "Note: you may need to restart the kernel to use updated packages.\n"
     ]
    }
   ],
   "source": [
    "%pip install --upgrade yfinance"
   ]
  },
  {
   "cell_type": "code",
   "execution_count": 7,
   "metadata": {},
   "outputs": [
    {
     "name": "stderr",
     "output_type": "stream",
     "text": [
      "[*********************100%***********************]  5 of 5 completed"
     ]
    },
    {
     "name": "stdout",
     "output_type": "stream",
     "text": [
      "Price            Close                                                  \\\n",
      "Ticker            AAPL        AMZN        GOOG         NKE       RY.TO   \n",
      "Date                                                                     \n",
      "2024-02-20  180.706726  167.080002  141.690872  101.557899  127.835495   \n",
      "2024-02-21  181.463165  168.589996  143.325012  103.494675  127.218254   \n",
      "2024-02-22  183.503525  174.580002  144.799728  103.307877  127.594383   \n",
      "2024-02-23  181.662231  174.990005  144.769821  103.848602  128.481659   \n",
      "2024-02-26  180.308624  174.729996  138.253250  102.776993  127.613686   \n",
      "\n",
      "Price             High                                                  ...  \\\n",
      "Ticker            AAPL        AMZN        GOOG         NKE       RY.TO  ...   \n",
      "Date                                                                    ...   \n",
      "2024-02-20  181.572633  168.710007  142.815828  102.088786  128.597390  ...   \n",
      "2024-02-21  182.030479  170.229996  143.464510  103.740459  128.066944  ...   \n",
      "2024-02-22  184.090764  174.800003  145.676567  104.222193  128.452727  ...   \n",
      "2024-02-23  184.170377  175.750000  145.432449  104.821912  128.848148  ...   \n",
      "2024-02-26  181.901096  176.369995  143.325023  104.310682  129.176061  ...   \n",
      "\n",
      "Price             Open                                                  \\\n",
      "Ticker            AAPL        AMZN        GOOG         NKE       RY.TO   \n",
      "Date                                                                     \n",
      "2024-02-20  180.935641  167.830002  140.435389  101.390761  126.552798   \n",
      "2024-02-21  181.084946  168.940002  142.129312  101.607056  127.883715   \n",
      "2024-02-22  182.617708  173.100006  145.596852  104.015735  127.777628   \n",
      "2024-02-23  184.140520  174.279999  144.450975  103.484847  127.729403   \n",
      "2024-02-26  181.383551  175.699997  142.936420  103.534004  128.269492   \n",
      "\n",
      "Price           Volume                                                 \n",
      "Ticker            AAPL        AMZN        GOOG        NKE       RY.TO  \n",
      "Date                                                                   \n",
      "2024-02-20  53665600.0  41980300.0  18625600.0  8759500.0   8807200.0  \n",
      "2024-02-21  41529700.0  44575600.0  16499600.0  8893500.0   5452700.0  \n",
      "2024-02-22  52292200.0  55392400.0  23024700.0  6705500.0   3096800.0  \n",
      "2024-02-23  45119700.0  59715200.0  14519400.0  6947300.0   3743100.0  \n",
      "2024-02-26  40867400.0  44368600.0  33513000.0  5831500.0  13886700.0  \n",
      "\n",
      "[5 rows x 25 columns]\n"
     ]
    },
    {
     "name": "stderr",
     "output_type": "stream",
     "text": [
      "\n"
     ]
    }
   ],
   "source": [
    "import yfinance as yf\n",
    "import pandas as pd\n",
    "import numpy as np\n",
    "\n",
    "# Define the tickers, including the S&P 500\n",
    "tickers = [ \"AAPL\",\"AMZN\",\"GOOG\",\"NKE\",\"RY.TO\",]  # RY.TO is for Royal Bank of Canada, ^GSPC is the S&P 500\n",
    "\n",
    "# Download historical data (e.g., for the past year)\n",
    "data = yf.download(tickers, period=\"1y\")\n",
    "\n",
    "print(data.head(5))\n",
    "\n"
   ]
  },
  {
   "cell_type": "code",
   "execution_count": null,
   "metadata": {},
   "outputs": [],
   "source": [
    "# --- Calculate Daily Returns ---\n",
    "returns = data['Adj Close'].pct_change()\n",
    "\n",
    "# --- Calculate Correlations ---"
   ]
  },
  {
   "cell_type": "code",
   "execution_count": null,
   "metadata": {},
   "outputs": [],
   "source": [
    "correlation_matrix = returns.corr()\n",
    "\n",
    "# --- Calculate Rolling Volatility (e.g., 30-day) ---\n",
    "volatility = returns.rolling(window=30).std()\n",
    "\n",
    "# --- Calculate Cumulative Returns ---\n",
    "cumulative_returns = (1 + returns).cumprod() - 1\n",
    "\n",
    "# --- Risk-Free Rate (Example: 10-year US Treasury yield - you'll want to update this) ---\n",
    "risk_free_rate = yf.download(\"^TNX\", period=\"1y\")['Adj Close'].iloc[-1] / 100 # Annualized risk-free rate.  Divide by 100 to convert percentage to decimal.\n",
    "# Important: ^TNX is for the 10-year US Treasury.  You might want to use a more appropriate risk-free rate for your analysis (e.g., a Canadian government bond yield if analyzing Canadian stocks).\n",
    "\n",
    "# --- Sharpe Ratio Calculation (Annualized) ---\n",
    "def calculate_sharpe_ratio(returns, risk_free_rate, annualization_factor=252): # 252 trading days in a year\n",
    "    excess_returns = returns - risk_free_rate/annualization_factor # Daily excess return\n",
    "    annualized_excess_returns = excess_returns.mean() * annualization_factor # Annualize excess return\n",
    "    annualized_volatility = volatility.mean() * np.sqrt(annualization_factor) # Annualize volatility\n",
    "    sharpe_ratio = annualized_excess_returns / annualized_volatility\n",
    "    return sharpe_ratio\n",
    "\n",
    "\n",
    "sharpe_ratios = calculate_sharpe_ratio(returns, risk_free_rate)\n",
    "\n",
    "\n",
    "# --- Export to Excel (separate sheets) ---\n",
    "with pd.ExcelWriter(\"stock_analysis.xlsx\") as writer:\n",
    "    data['Adj Close'].to_excel(writer, sheet_name=\"Adj Close Prices\")  # Adjusted Close Prices\n",
    "    returns.to_excel(writer, sheet_name=\"Daily Returns\")\n",
    "    correlation_matrix.to_excel(writer, sheet_name=\"Correlation Matrix\")\n",
    "    volatility.to_excel(writer, sheet_name=\"Volatility\")\n",
    "    cumulative_returns.to_excel(writer, sheet_name=\"Cumulative Returns\")\n",
    "    pd.DataFrame(sharpe_ratios, columns=['Sharpe Ratio']).to_excel(writer, sheet_name=\"Sharpe Ratios\") # Sharpe Ratios\n",
    "\n",
    "\n",
    "print(\"Data and analysis saved to stock_analysis.xlsx\")\n",
    "\n",
    "# --- Example of Accessing Data (for us) ---\n",
    "#print(\"\\nCorrelation Matrix:\")\n",
    "#print(correlation_matrix)\n",
    "\n",
    "#print(\"\\nVolatility:\")\n",
    "#print(volatility)\n",
    "\n",
    "#print(\"\\nCumulative Returns:\")\n",
    "#print(cumulative_returns)\n",
    "\n",
    "# --- Further Analysis (Examples for us) ---\n",
    "# ... (as before)\n",
    "\n",
    "# Example: Analyzing correlations with the S&P 500\n",
    "sp500_corr = correlation_matrix[\"^GSPC\"]\n",
    "print(\"\\nCorrelation with S&P 500:\")\n",
    "print(sp500_corr)\n",
    "\n",
    "print(\"\\nSharpe Ratios:\")\n",
    "print(sharpe_ratios)"
   ]
  }
 ],
 "metadata": {
  "kernelspec": {
   "display_name": "base",
   "language": "python",
   "name": "python3"
  },
  "language_info": {
   "codemirror_mode": {
    "name": "ipython",
    "version": 3
   },
   "file_extension": ".py",
   "mimetype": "text/x-python",
   "name": "python",
   "nbconvert_exporter": "python",
   "pygments_lexer": "ipython3",
   "version": "3.12.4"
  }
 },
 "nbformat": 4,
 "nbformat_minor": 2
}
