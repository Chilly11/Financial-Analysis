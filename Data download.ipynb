{
 "cells": [
  {
   "cell_type": "markdown",
   "metadata": {},
   "source": [
    "# First Cell \n",
    "\n",
    "## makes sure the yfinance is the latest version and that yfinance, numpy and pandas are imported"
   ]
  },
  {
   "cell_type": "code",
   "execution_count": null,
   "metadata": {},
   "outputs": [
    {
     "name": "stdout",
     "output_type": "stream",
     "text": [
      "Requirement already satisfied: yfinance in /opt/anaconda3/lib/python3.12/site-packages (0.2.54)\n",
      "Requirement already satisfied: pandas>=1.3.0 in /opt/anaconda3/lib/python3.12/site-packages (from yfinance) (2.2.2)\n",
      "Requirement already satisfied: numpy>=1.16.5 in /opt/anaconda3/lib/python3.12/site-packages (from yfinance) (1.26.4)\n",
      "Requirement already satisfied: requests>=2.31 in /opt/anaconda3/lib/python3.12/site-packages (from yfinance) (2.32.2)\n",
      "Requirement already satisfied: multitasking>=0.0.7 in /opt/anaconda3/lib/python3.12/site-packages (from yfinance) (0.0.11)\n",
      "Requirement already satisfied: platformdirs>=2.0.0 in /opt/anaconda3/lib/python3.12/site-packages (from yfinance) (3.10.0)\n",
      "Requirement already satisfied: pytz>=2022.5 in /opt/anaconda3/lib/python3.12/site-packages (from yfinance) (2024.1)\n",
      "Requirement already satisfied: frozendict>=2.3.4 in /opt/anaconda3/lib/python3.12/site-packages (from yfinance) (2.4.2)\n",
      "Requirement already satisfied: peewee>=3.16.2 in /opt/anaconda3/lib/python3.12/site-packages (from yfinance) (3.17.8)\n",
      "Requirement already satisfied: beautifulsoup4>=4.11.1 in /opt/anaconda3/lib/python3.12/site-packages (from yfinance) (4.12.3)\n",
      "Requirement already satisfied: soupsieve>1.2 in /opt/anaconda3/lib/python3.12/site-packages (from beautifulsoup4>=4.11.1->yfinance) (2.5)\n",
      "Requirement already satisfied: python-dateutil>=2.8.2 in /opt/anaconda3/lib/python3.12/site-packages (from pandas>=1.3.0->yfinance) (2.9.0.post0)\n",
      "Requirement already satisfied: tzdata>=2022.7 in /opt/anaconda3/lib/python3.12/site-packages (from pandas>=1.3.0->yfinance) (2023.3)\n",
      "Requirement already satisfied: charset-normalizer<4,>=2 in /opt/anaconda3/lib/python3.12/site-packages (from requests>=2.31->yfinance) (2.0.4)\n",
      "Requirement already satisfied: idna<4,>=2.5 in /opt/anaconda3/lib/python3.12/site-packages (from requests>=2.31->yfinance) (3.7)\n",
      "Requirement already satisfied: urllib3<3,>=1.21.1 in /opt/anaconda3/lib/python3.12/site-packages (from requests>=2.31->yfinance) (2.2.2)\n",
      "Requirement already satisfied: certifi>=2017.4.17 in /opt/anaconda3/lib/python3.12/site-packages (from requests>=2.31->yfinance) (2024.8.30)\n",
      "Requirement already satisfied: six>=1.5 in /opt/anaconda3/lib/python3.12/site-packages (from python-dateutil>=2.8.2->pandas>=1.3.0->yfinance) (1.16.0)\n",
      "Note: you may need to restart the kernel to use updated packages.\n"
     ]
    }
   ],
   "source": [
    "%pip install --upgrade yfinance\n",
    "\n",
    "import yfinance as yf\n",
    "import pandas as pd\n",
    "import numpy as np"
   ]
  },
  {
   "cell_type": "markdown",
   "metadata": {},
   "source": [
    "### This cell defines the tickers and downloads them from Yfinance.\n",
    "\n",
    "It also prints the first 5 lines of the data to prove that it was downloaded"
   ]
  },
  {
   "cell_type": "code",
   "execution_count": 29,
   "metadata": {},
   "outputs": [
    {
     "name": "stderr",
     "output_type": "stream",
     "text": [
      "[*********************100%***********************]  6 of 6 completed"
     ]
    },
    {
     "name": "stdout",
     "output_type": "stream",
     "text": [
      "Price            Close                                                \\\n",
      "Ticker            AAPL       AMZN       GOOG         NKE       RY.TO   \n",
      "Date                                                                   \n",
      "2023-02-21  146.997559  94.580002  91.720444  117.538406  127.733490   \n",
      "2023-02-22  147.423294  95.790001  91.471336  116.373718  126.181068   \n",
      "2023-02-23  147.908371  95.820000  90.743942  116.431946  125.552696   \n",
      "2023-02-24  145.245255  93.500000  89.030098  114.568420  126.800201   \n",
      "2023-02-27  146.443146  93.760002  89.777420  115.044014  127.557892   \n",
      "\n",
      "Price                          High                                    ...  \\\n",
      "Ticker            ^GSPC        AAPL       AMZN       GOOG         NKE  ...   \n",
      "Date                                                                   ...   \n",
      "2023-02-21  3997.340088  149.789411  95.610001  93.080555  120.353118  ...   \n",
      "2023-02-22  3991.050049  148.452904  97.010002  92.029329  117.829603  ...   \n",
      "2023-02-23  4012.320068  148.838988  96.430000  91.800145  117.208421  ...   \n",
      "2023-02-24  3970.040039  145.720458  94.139999  89.807304  115.247830  ...   \n",
      "2023-02-27  3982.239990  147.680666  94.779999  90.126165  116.296076  ...   \n",
      "\n",
      "Price            Open                                           Volume  \\\n",
      "Ticker           GOOG         NKE       RY.TO        ^GSPC        AAPL   \n",
      "Date                                                                     \n",
      "2023-02-21  92.906178  119.654292  127.798181  4052.350098  58867200.0   \n",
      "2023-02-22  91.604852  117.538423  127.289944  4001.830078  51011300.0   \n",
      "2023-02-23  91.800145  117.208421  126.596894  4018.600098  48394200.0   \n",
      "2023-02-24  89.309094  114.500479  125.072204  3973.239990  55469600.0   \n",
      "2023-02-27  89.767454  115.752548  127.058903  3992.360107  44998500.0   \n",
      "\n",
      "Price                                                                   \n",
      "Ticker            AMZN        GOOG        NKE      RY.TO         ^GSPC  \n",
      "Date                                                                    \n",
      "2023-02-21  56580400.0  28367200.0  5110300.0  3834400.0  4.121590e+09  \n",
      "2023-02-22  59534100.0  29891100.0  5022000.0  4922300.0  4.079320e+09  \n",
      "2023-02-23  48467000.0  32423700.0  4101900.0  2714400.0  3.952940e+09  \n",
      "2023-02-24  57053800.0  31295600.0  4693000.0  2826100.0  3.877700e+09  \n",
      "2023-02-27  47470300.0  22724300.0  4239800.0  1882300.0  3.836950e+09  \n",
      "\n",
      "[5 rows x 30 columns]\n"
     ]
    },
    {
     "name": "stderr",
     "output_type": "stream",
     "text": [
      "\n"
     ]
    }
   ],
   "source": [
    "\n",
    "\n",
    "# Define the tickers, including the S&P 500\n",
    "tickers = [ \"AAPL\",\"AMZN\",\"GOOG\",\"NKE\",\"RY.TO\",\"^GSPC\"]  # RY.TO is for Royal Bank of Canada, ^GSPC is the S&P 500\n",
    "\n",
    "# Download historical data (e.g., for the past year)\n",
    "data = yf.download(tickers, period=\"2y\")\n",
    "\n",
    "print(data.head(5))\n",
    "\n"
   ]
  },
  {
   "cell_type": "markdown",
   "metadata": {},
   "source": [
    "## This cell calculates the daily returns based on the Closing price and also develops shows a correlation matrix"
   ]
  },
  {
   "cell_type": "code",
   "execution_count": 30,
   "metadata": {},
   "outputs": [
    {
     "name": "stdout",
     "output_type": "stream",
     "text": [
      "Ticker          AAPL      AMZN      GOOG       NKE     RY.TO     ^GSPC\n",
      "Date                                                                  \n",
      "2023-02-21       NaN       NaN       NaN       NaN       NaN       NaN\n",
      "2023-02-22  0.002896  0.012793 -0.002716 -0.009909 -0.012154 -0.001574\n",
      "2023-02-23  0.003290  0.000313 -0.007952  0.000500 -0.004980  0.005329\n",
      "2023-02-24 -0.018005 -0.024212 -0.018887 -0.016005  0.009936 -0.010538\n",
      "2023-02-27  0.008247  0.002781  0.008394  0.004151  0.005975  0.003073\n",
      "2023-02-28 -0.003448  0.005013  0.002220  0.002194  0.003622 -0.003036\n",
      "2023-03-01 -0.014246 -0.021861  0.002326 -0.001768 -0.035513 -0.004725\n",
      "2023-03-02  0.004129 -0.000434  0.019887  0.008433  0.019383  0.007582\n",
      "2023-03-03  0.035090  0.030066  0.018524  0.014257  0.003964  0.016148\n",
      "2023-03-06  0.018539 -0.012118  0.016592 -0.006367  0.003364  0.000687\n",
      "2023-03-07 -0.014496 -0.002133 -0.014752 -0.004827 -0.004883 -0.015327\n",
      "2023-03-08  0.008377  0.003955  0.005097  0.002258  0.003808  0.001415\n",
      "2023-03-09 -0.014915 -0.017781 -0.021025 -0.016603 -0.012185 -0.018459\n",
      "2023-03-10 -0.013879 -0.016477 -0.017807 -0.003224 -0.016840 -0.014478\n",
      "2023-03-13  0.013266  0.018737  0.007142 -0.005362 -0.013823 -0.001510\n",
      "Ticker      AAPL      AMZN      GOOG       NKE     RY.TO     ^GSPC\n",
      "Ticker                                                            \n",
      "AAPL    1.000000  0.367790  0.395078  0.225070  0.180126  0.578493\n",
      "AMZN    0.367790  1.000000  0.556593  0.199010  0.193320  0.632752\n",
      "GOOG    0.395078  0.556593  1.000000  0.160094  0.098435  0.562419\n",
      "NKE     0.225070  0.199010  0.160094  1.000000  0.208217  0.307509\n",
      "RY.TO   0.180126  0.193320  0.098435  0.208217  1.000000  0.450092\n",
      "^GSPC   0.578493  0.632752  0.562419  0.307509  0.450092  1.000000\n"
     ]
    },
    {
     "name": "stderr",
     "output_type": "stream",
     "text": [
      "/var/folders/v7/k3z3dzlx5rv8j1g_txkst4vm0000gn/T/ipykernel_18171/3999015160.py:2: FutureWarning: The default fill_method='pad' in DataFrame.pct_change is deprecated and will be removed in a future version. Either fill in any non-leading NA values prior to calling pct_change or specify 'fill_method=None' to not fill NA values.\n",
      "  returns = data['Close'].pct_change()\n"
     ]
    }
   ],
   "source": [
    "# --- Calculate Daily Returns ---\n",
    "returns = data['Close'].pct_change()\n",
    "print(returns.head(15))\n",
    "# --- Calculate Correlations ---\n",
    "correlation_matrix = returns.corr()\n",
    "print(correlation_matrix)"
   ]
  },
  {
   "cell_type": "markdown",
   "metadata": {},
   "source": [
    "## Calculate Volatility, Returns and Sharpe Ratio\n",
    "\n",
    "This also is where the risk free rate is downloaded. It uses the ten year treasury bond rate\n"
   ]
  },
  {
   "cell_type": "code",
   "execution_count": 31,
   "metadata": {},
   "outputs": [
    {
     "name": "stderr",
     "output_type": "stream",
     "text": [
      "[*********************100%***********************]  1 of 1 completed"
     ]
    },
    {
     "name": "stdout",
     "output_type": "stream",
     "text": [
      "this is the Sharpe ratio\n",
      "Ticker\n",
      "AAPL    NaN\n",
      "AMZN    NaN\n",
      "GOOG    NaN\n",
      "NKE     NaN\n",
      "RY.TO   NaN\n",
      "^GSPC   NaN\n",
      "^TNX    NaN\n",
      "dtype: float64\n"
     ]
    },
    {
     "name": "stderr",
     "output_type": "stream",
     "text": [
      "\n"
     ]
    }
   ],
   "source": [
    "\n",
    "\n",
    "# --- Calculate Rolling Volatility (e.g., 30-day) ---\n",
    "volatility = returns.rolling(window=30).std()\n",
    "\n",
    "# --- Calculate Cumulative Returns ---\n",
    "cumulative_returns = (1 + returns).cumprod() - 1\n",
    "\n",
    "# --- Risk-Free Rate (Example: 10-year US Treasury yield - you'll want to update this) ---\n",
    "risk_free_rate = yf.download(\"^TNX\", period=\"1y\")['Close'].iloc[-1] / 100 # Annualized risk-free rate.  Divide by 100 to convert percentage to decimal.\n",
    "# Important: ^TNX is for the 10-year US Treasury.  You might want to use a more appropriate risk-free rate for your analysis (e.g., a Canadian government bond yield if analyzing Canadian stocks).\n",
    "\n",
    "# --- Sharpe Ratio Calculation (Annualized) ---\n",
    "def calculate_sharpe_ratio(returns, risk_free_rate, annualization_factor=252): # 252 trading days in a year\n",
    "    excess_returns = returns - risk_free_rate/annualization_factor # Daily excess return\n",
    "    annualized_excess_returns = excess_returns.mean() * annualization_factor # Annualize excess return\n",
    "    annualized_volatility = volatility.mean() * np.sqrt(annualization_factor) # Annualize volatility\n",
    "    sharpe_ratio = annualized_excess_returns / annualized_volatility\n",
    "    return sharpe_ratio\n",
    "\n",
    "\n",
    "sharpe_ratios = calculate_sharpe_ratio(returns, risk_free_rate)\n",
    "\n",
    "#print(\"this is the volatiltiy\")\n",
    "#print(volatility.head(50-60))\n",
    "#print( \"this is the cum returns\")\n",
    "#print(cumulative_returns.head(50-60))\n",
    "#print(\"this is the risk free rate\")\n",
    "#print( risk_free_rate.head(5))\n",
    "print(\"this is the Sharpe ratio\")\n",
    "print(sharpe_ratios)\n"
   ]
  },
  {
   "cell_type": "markdown",
   "metadata": {},
   "source": [
    "##This is the export to excel section"
   ]
  },
  {
   "cell_type": "code",
   "execution_count": 32,
   "metadata": {},
   "outputs": [
    {
     "name": "stdout",
     "output_type": "stream",
     "text": [
      "Data and analysis saved to stock_analysis.xlsx\n",
      "\n",
      "Correlation with S&P 500:\n",
      "Ticker\n",
      "AAPL     0.578493\n",
      "AMZN     0.632752\n",
      "GOOG     0.562419\n",
      "NKE      0.307509\n",
      "RY.TO    0.450092\n",
      "^GSPC    1.000000\n",
      "Name: ^GSPC, dtype: float64\n",
      "\n",
      "Sharpe Ratios:\n",
      "Ticker\n",
      "AAPL    NaN\n",
      "AMZN    NaN\n",
      "GOOG    NaN\n",
      "NKE     NaN\n",
      "RY.TO   NaN\n",
      "^GSPC   NaN\n",
      "^TNX    NaN\n",
      "dtype: float64\n"
     ]
    }
   ],
   "source": [
    "\n",
    "# --- Export to Excel (separate sheets) ---\n",
    "with pd.ExcelWriter(\"stock_analysis.xlsx\") as writer:\n",
    "    data['Close'].to_excel(writer, sheet_name=\"Close Prices\")  # Adjusted Close Prices\n",
    "    returns.to_excel(writer, sheet_name=\"Daily Returns\")\n",
    "    correlation_matrix.to_excel(writer, sheet_name=\"Correlation Matrix\")\n",
    "    volatility.to_excel(writer, sheet_name=\"Volatility\")\n",
    "    cumulative_returns.to_excel(writer, sheet_name=\"Cumulative Returns\")\n",
    "    pd.DataFrame(sharpe_ratios, columns=['Sharpe Ratio']).to_excel(writer, sheet_name=\"Sharpe Ratios\") # Sharpe Ratios\n",
    "\n",
    "\n",
    "print(\"Data and analysis saved to stock_analysis.xlsx\")\n",
    "\n",
    "# --- Example of Accessing Data (for us) ---\n",
    "#print(\"\\nCorrelation Matrix:\")\n",
    "#print(correlation_matrix)\n",
    "\n",
    "#print(\"\\nVolatility:\")\n",
    "#print(volatility)\n",
    "\n",
    "#print(\"\\nCumulative Returns:\")\n",
    "#print(cumulative_returns)\n",
    "\n",
    "# --- Further Analysis (Examples for us) ---\n",
    "# ... (as before)\n",
    "\n",
    "# Example: Analyzing correlations with the S&P 500\n",
    "sp500_corr = correlation_matrix[\"^GSPC\"]\n",
    "print(\"\\nCorrelation with S&P 500:\")\n",
    "print(sp500_corr)\n",
    "\n",
    "print(\"\\nSharpe Ratios:\")\n",
    "print(sharpe_ratios)"
   ]
  }
 ],
 "metadata": {
  "kernelspec": {
   "display_name": "base",
   "language": "python",
   "name": "python3"
  },
  "language_info": {
   "codemirror_mode": {
    "name": "ipython",
    "version": 3
   },
   "file_extension": ".py",
   "mimetype": "text/x-python",
   "name": "python",
   "nbconvert_exporter": "python",
   "pygments_lexer": "ipython3",
   "version": "3.12.4"
  }
 },
 "nbformat": 4,
 "nbformat_minor": 2
}
