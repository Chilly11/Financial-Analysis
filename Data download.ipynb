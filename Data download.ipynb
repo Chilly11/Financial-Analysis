{
 "cells": [
  {
   "cell_type": "markdown",
   "metadata": {},
   "source": [
    "# First Cell \n",
    "\n",
    "## makes sure the yfinance is the latest version and that yfinance, numpy and pandas are imported"
   ]
  },
  {
   "cell_type": "code",
   "execution_count": null,
   "metadata": {},
   "outputs": [
    {
     "name": "stdout",
     "output_type": "stream",
     "text": [
      "Requirement already satisfied: yfinance in /opt/anaconda3/lib/python3.12/site-packages (0.2.54)\n",
      "Requirement already satisfied: pandas>=1.3.0 in /opt/anaconda3/lib/python3.12/site-packages (from yfinance) (2.2.2)\n",
      "Requirement already satisfied: numpy>=1.16.5 in /opt/anaconda3/lib/python3.12/site-packages (from yfinance) (1.26.4)\n",
      "Requirement already satisfied: requests>=2.31 in /opt/anaconda3/lib/python3.12/site-packages (from yfinance) (2.32.2)\n",
      "Requirement already satisfied: multitasking>=0.0.7 in /opt/anaconda3/lib/python3.12/site-packages (from yfinance) (0.0.11)\n",
      "Requirement already satisfied: platformdirs>=2.0.0 in /opt/anaconda3/lib/python3.12/site-packages (from yfinance) (3.10.0)\n",
      "Requirement already satisfied: pytz>=2022.5 in /opt/anaconda3/lib/python3.12/site-packages (from yfinance) (2024.1)\n",
      "Requirement already satisfied: frozendict>=2.3.4 in /opt/anaconda3/lib/python3.12/site-packages (from yfinance) (2.4.2)\n",
      "Requirement already satisfied: peewee>=3.16.2 in /opt/anaconda3/lib/python3.12/site-packages (from yfinance) (3.17.8)\n",
      "Requirement already satisfied: beautifulsoup4>=4.11.1 in /opt/anaconda3/lib/python3.12/site-packages (from yfinance) (4.12.3)\n",
      "Requirement already satisfied: soupsieve>1.2 in /opt/anaconda3/lib/python3.12/site-packages (from beautifulsoup4>=4.11.1->yfinance) (2.5)\n",
      "Requirement already satisfied: python-dateutil>=2.8.2 in /opt/anaconda3/lib/python3.12/site-packages (from pandas>=1.3.0->yfinance) (2.9.0.post0)\n",
      "Requirement already satisfied: tzdata>=2022.7 in /opt/anaconda3/lib/python3.12/site-packages (from pandas>=1.3.0->yfinance) (2023.3)\n",
      "Requirement already satisfied: charset-normalizer<4,>=2 in /opt/anaconda3/lib/python3.12/site-packages (from requests>=2.31->yfinance) (2.0.4)\n",
      "Requirement already satisfied: idna<4,>=2.5 in /opt/anaconda3/lib/python3.12/site-packages (from requests>=2.31->yfinance) (3.7)\n",
      "Requirement already satisfied: urllib3<3,>=1.21.1 in /opt/anaconda3/lib/python3.12/site-packages (from requests>=2.31->yfinance) (2.2.2)\n",
      "Requirement already satisfied: certifi>=2017.4.17 in /opt/anaconda3/lib/python3.12/site-packages (from requests>=2.31->yfinance) (2024.8.30)\n",
      "Requirement already satisfied: six>=1.5 in /opt/anaconda3/lib/python3.12/site-packages (from python-dateutil>=2.8.2->pandas>=1.3.0->yfinance) (1.16.0)\n",
      "Note: you may need to restart the kernel to use updated packages.\n"
     ]
    }
   ],
   "source": [
    "%pip install --upgrade yfinance\n",
    "\n",
    "import yfinance as yf\n",
    "import pandas as pd\n",
    "import numpy as np"
   ]
  },
  {
   "cell_type": "markdown",
   "metadata": {},
   "source": [
    "### This cell defines the tickers and downloads them from Yfinance.\n",
    "\n",
    "It also prints the first 5 lines of the data to prove that it was downloaded"
   ]
  },
  {
   "cell_type": "code",
   "execution_count": null,
   "metadata": {},
   "outputs": [
    {
     "name": "stderr",
     "output_type": "stream",
     "text": [
      "[*********************100%***********************]  6 of 6 completed"
     ]
    },
    {
     "name": "stdout",
     "output_type": "stream",
     "text": [
      "Price            Close                                                  \\\n",
      "Ticker            AAPL        AMZN        GOOG         NKE       RY.TO   \n",
      "Date                                                                     \n",
      "2024-02-20  180.706726  167.080002  141.690872  101.557899  127.835495   \n",
      "2024-02-21  181.463181  168.589996  143.325012  103.494667  127.218254   \n",
      "2024-02-22  183.503540  174.580002  144.799728  103.307877  127.594383   \n",
      "2024-02-23  181.662216  174.990005  144.769821  103.848602  128.481659   \n",
      "2024-02-26  180.308609  174.729996  138.253250  102.776985  127.613686   \n",
      "\n",
      "Price                          High                                      ...  \\\n",
      "Ticker            ^GSPC        AAPL        AMZN        GOOG         NKE  ...   \n",
      "Date                                                                     ...   \n",
      "2024-02-20  4975.509766  181.572633  168.710007  142.815828  102.088786  ...   \n",
      "2024-02-21  4981.799805  182.030494  170.229996  143.464510  103.740451  ...   \n",
      "2024-02-22  5087.029785  184.090779  174.800003  145.676567  104.222193  ...   \n",
      "2024-02-23  5088.799805  184.170362  175.750000  145.432449  104.821912  ...   \n",
      "2024-02-26  5069.529785  181.901080  176.369995  143.325023  104.310674  ...   \n",
      "\n",
      "Price             Open                                           Volume  \\\n",
      "Ticker            GOOG         NKE       RY.TO        ^GSPC        AAPL   \n",
      "Date                                                                      \n",
      "2024-02-20  140.435389  101.390761  126.552798  4989.319824  53665600.0   \n",
      "2024-02-21  142.129312  101.607049  127.883715  4963.029785  41529700.0   \n",
      "2024-02-22  145.596852  104.015735  127.777628  5038.830078  52292200.0   \n",
      "2024-02-23  144.450975  103.484847  127.729403  5100.919922  45119700.0   \n",
      "2024-02-26  142.936420  103.533996  128.269492  5093.000000  40867400.0   \n",
      "\n",
      "Price                                                                    \n",
      "Ticker            AMZN        GOOG        NKE       RY.TO         ^GSPC  \n",
      "Date                                                                     \n",
      "2024-02-20  41980300.0  18625600.0  8759500.0   8807200.0  4.034880e+09  \n",
      "2024-02-21  44575600.0  16499600.0  8893500.0   5452700.0  3.788390e+09  \n",
      "2024-02-22  55392400.0  23024700.0  6705500.0   3096800.0  4.051710e+09  \n",
      "2024-02-23  59715200.0  14519400.0  6947300.0   3743100.0  3.672790e+09  \n",
      "2024-02-26  44368600.0  33513000.0  5831500.0  13886700.0  3.683930e+09  \n",
      "\n",
      "[5 rows x 30 columns]\n"
     ]
    },
    {
     "name": "stderr",
     "output_type": "stream",
     "text": [
      "\n"
     ]
    }
   ],
   "source": [
    "\n",
    "\n",
    "# Define the tickers, including the S&P 500\n",
    "tickers = [ \"AAPL\",\"AMZN\",\"GOOG\",\"NKE\",\"RY.TO\",\"^GSPC\"]  # RY.TO is for Royal Bank of Canada, ^GSPC is the S&P 500\n",
    "\n",
    "# Download historical data (e.g., for the past year)\n",
    "data = yf.download(tickers, period=\"1y\")\n",
    "\n",
    "print(data.head(5))\n",
    "\n"
   ]
  },
  {
   "cell_type": "markdown",
   "metadata": {},
   "source": [
    "## This cell calculates the daily returns based on the Closing price and also develops shows a correlation matrix"
   ]
  },
  {
   "cell_type": "code",
   "execution_count": 18,
   "metadata": {},
   "outputs": [
    {
     "name": "stdout",
     "output_type": "stream",
     "text": [
      "Ticker          AAPL      AMZN      GOOG       NKE     RY.TO     ^GSPC\n",
      "Date                                                                  \n",
      "2024-02-20       NaN       NaN       NaN       NaN       NaN       NaN\n",
      "2024-02-21  0.004186  0.009038  0.011533  0.019071 -0.004828  0.001264\n",
      "2024-02-22  0.011244  0.035530  0.010289 -0.001805  0.002957  0.021123\n",
      "2024-02-23 -0.010034  0.002349 -0.000207  0.005234  0.006954  0.000348\n",
      "2024-02-26 -0.007451 -0.001486 -0.045013 -0.010319 -0.006756 -0.003787\n",
      "2024-02-27  0.008114 -0.006811  0.009730  0.005835 -0.008313  0.001706\n",
      "2024-02-28 -0.006625 -0.002190 -0.019058 -0.007608 -0.002210 -0.001658\n",
      "2024-02-29 -0.003693  0.020790  0.017100 -0.004025  0.006645  0.005229\n",
      "2024-03-01 -0.006030  0.008260 -0.012162 -0.016223  0.001062  0.008008\n",
      "2024-03-04 -0.025381 -0.003591 -0.028100 -0.022968 -0.000227 -0.001193\n",
      "2024-03-05 -0.028441 -0.019484 -0.003130 -0.012357  0.009173 -0.010193\n",
      "2024-03-06 -0.005878 -0.003503 -0.009119 -0.006917 -0.002253  0.005141\n",
      "2024-03-07 -0.000710  0.019077  0.020217  0.005736  0.007454  0.010304\n",
      "2024-03-08  0.010237 -0.008314  0.007764  0.009879  0.001270 -0.006529\n",
      "2024-03-11  0.011832 -0.019333  0.019444  0.019363  0.006643 -0.001122\n",
      "Ticker      AAPL      AMZN      GOOG       NKE     RY.TO     ^GSPC\n",
      "Ticker                                                            \n",
      "AAPL    1.000000  0.333101  0.311509  0.182765  0.111847  0.493295\n",
      "AMZN    0.333101  1.000000  0.550369  0.183182  0.174467  0.686902\n",
      "GOOG    0.311509  0.550369  1.000000  0.147721  0.040302  0.547035\n",
      "NKE     0.182765  0.183182  0.147721  1.000000  0.124753  0.208004\n",
      "RY.TO   0.111847  0.174467  0.040302  0.124753  1.000000  0.331709\n",
      "^GSPC   0.493295  0.686902  0.547035  0.208004  0.331709  1.000000\n"
     ]
    },
    {
     "name": "stderr",
     "output_type": "stream",
     "text": [
      "/var/folders/v7/k3z3dzlx5rv8j1g_txkst4vm0000gn/T/ipykernel_18171/3999015160.py:2: FutureWarning: The default fill_method='pad' in DataFrame.pct_change is deprecated and will be removed in a future version. Either fill in any non-leading NA values prior to calling pct_change or specify 'fill_method=None' to not fill NA values.\n",
      "  returns = data['Close'].pct_change()\n"
     ]
    }
   ],
   "source": [
    "# --- Calculate Daily Returns ---\n",
    "returns = data['Close'].pct_change()\n",
    "print(returns.head(15))\n",
    "# --- Calculate Correlations ---\n",
    "correlation_matrix = returns.corr()\n",
    "print(correlation_matrix)"
   ]
  },
  {
   "cell_type": "markdown",
   "metadata": {},
   "source": [
    "## Calculate Volatility, Returns and Sharpe Ratio\n",
    "\n",
    "This also is where the risk free rate is downloaded. It uses the ten year treasury bond rate\n"
   ]
  },
  {
   "cell_type": "code",
   "execution_count": 26,
   "metadata": {},
   "outputs": [
    {
     "name": "stderr",
     "output_type": "stream",
     "text": [
      "[*********************100%***********************]  1 of 1 completed"
     ]
    },
    {
     "name": "stdout",
     "output_type": "stream",
     "text": [
      "this is the Sharpe ratio\n",
      "Ticker\n",
      "AAPL    NaN\n",
      "AMZN    NaN\n",
      "GOOG    NaN\n",
      "NKE     NaN\n",
      "RY.TO   NaN\n",
      "^GSPC   NaN\n",
      "^TNX    NaN\n",
      "dtype: float64\n"
     ]
    },
    {
     "name": "stderr",
     "output_type": "stream",
     "text": [
      "\n"
     ]
    }
   ],
   "source": [
    "\n",
    "\n",
    "# --- Calculate Rolling Volatility (e.g., 30-day) ---\n",
    "volatility = returns.rolling(window=30).std()\n",
    "\n",
    "# --- Calculate Cumulative Returns ---\n",
    "cumulative_returns = (1 + returns).cumprod() - 1\n",
    "\n",
    "# --- Risk-Free Rate (Example: 10-year US Treasury yield - you'll want to update this) ---\n",
    "risk_free_rate = yf.download(\"^TNX\", period=\"1y\")['Close'].iloc[-1] / 100 # Annualized risk-free rate.  Divide by 100 to convert percentage to decimal.\n",
    "# Important: ^TNX is for the 10-year US Treasury.  You might want to use a more appropriate risk-free rate for your analysis (e.g., a Canadian government bond yield if analyzing Canadian stocks).\n",
    "\n",
    "# --- Sharpe Ratio Calculation (Annualized) ---\n",
    "def calculate_sharpe_ratio(returns, risk_free_rate, annualization_factor=252): # 252 trading days in a year\n",
    "    excess_returns = returns - risk_free_rate/annualization_factor # Daily excess return\n",
    "    annualized_excess_returns = excess_returns.mean() * annualization_factor # Annualize excess return\n",
    "    annualized_volatility = volatility.mean() * np.sqrt(annualization_factor) # Annualize volatility\n",
    "    sharpe_ratio = annualized_excess_returns / annualized_volatility\n",
    "    return sharpe_ratio\n",
    "\n",
    "\n",
    "sharpe_ratios = calculate_sharpe_ratio(returns, risk_free_rate)\n",
    "\n",
    "#print(\"this is the volatiltiy\")\n",
    "#print(volatility.head(50-60))\n",
    "#print( \"this is the cum returns\")\n",
    "#print(cumulative_returns.head(50-60))\n",
    "#print(\"this is the risk free rate\")\n",
    "#print( risk_free_rate.head(5))\n",
    "print(\"this is the Sharpe ratio\")\n",
    "print(sharpe_ratios)\n"
   ]
  },
  {
   "cell_type": "code",
   "execution_count": null,
   "metadata": {},
   "outputs": [],
   "source": [
    "\n",
    "\n",
    "\n",
    "# --- Export to Excel (separate sheets) ---\n",
    "with pd.ExcelWriter(\"stock_analysis.xlsx\") as writer:\n",
    "    data['Adj Close'].to_excel(writer, sheet_name=\"Adj Close Prices\")  # Adjusted Close Prices\n",
    "    returns.to_excel(writer, sheet_name=\"Daily Returns\")\n",
    "    correlation_matrix.to_excel(writer, sheet_name=\"Correlation Matrix\")\n",
    "    volatility.to_excel(writer, sheet_name=\"Volatility\")\n",
    "    cumulative_returns.to_excel(writer, sheet_name=\"Cumulative Returns\")\n",
    "    pd.DataFrame(sharpe_ratios, columns=['Sharpe Ratio']).to_excel(writer, sheet_name=\"Sharpe Ratios\") # Sharpe Ratios\n",
    "\n",
    "\n",
    "print(\"Data and analysis saved to stock_analysis.xlsx\")\n",
    "\n",
    "# --- Example of Accessing Data (for us) ---\n",
    "#print(\"\\nCorrelation Matrix:\")\n",
    "#print(correlation_matrix)\n",
    "\n",
    "#print(\"\\nVolatility:\")\n",
    "#print(volatility)\n",
    "\n",
    "#print(\"\\nCumulative Returns:\")\n",
    "#print(cumulative_returns)\n",
    "\n",
    "# --- Further Analysis (Examples for us) ---\n",
    "# ... (as before)\n",
    "\n",
    "# Example: Analyzing correlations with the S&P 500\n",
    "sp500_corr = correlation_matrix[\"^GSPC\"]\n",
    "print(\"\\nCorrelation with S&P 500:\")\n",
    "print(sp500_corr)\n",
    "\n",
    "print(\"\\nSharpe Ratios:\")\n",
    "print(sharpe_ratios)"
   ]
  }
 ],
 "metadata": {
  "kernelspec": {
   "display_name": "base",
   "language": "python",
   "name": "python3"
  },
  "language_info": {
   "codemirror_mode": {
    "name": "ipython",
    "version": 3
   },
   "file_extension": ".py",
   "mimetype": "text/x-python",
   "name": "python",
   "nbconvert_exporter": "python",
   "pygments_lexer": "ipython3",
   "version": "3.12.4"
  }
 },
 "nbformat": 4,
 "nbformat_minor": 2
}
